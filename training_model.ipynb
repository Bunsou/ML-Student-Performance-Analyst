{
 "cells": [
  {
   "cell_type": "markdown",
   "id": "0e0469ed",
   "metadata": {},
   "source": [
    "# Data preprocessing"
   ]
  },
  {
   "cell_type": "markdown",
   "id": "f4435d6d",
   "metadata": {},
   "source": [
    "## Import the libraries"
   ]
  },
  {
   "cell_type": "code",
   "execution_count": 37,
   "id": "81b56800",
   "metadata": {},
   "outputs": [],
   "source": [
    "import numpy as np\n",
    "import matplotlib.pyplot as plt\n",
    "import pandas as pd"
   ]
  },
  {
   "cell_type": "code",
   "execution_count": 38,
   "id": "2ee230a8",
   "metadata": {},
   "outputs": [
    {
     "data": {
      "text/html": [
       "<div>\n",
       "<style scoped>\n",
       "    .dataframe tbody tr th:only-of-type {\n",
       "        vertical-align: middle;\n",
       "    }\n",
       "\n",
       "    .dataframe tbody tr th {\n",
       "        vertical-align: top;\n",
       "    }\n",
       "\n",
       "    .dataframe thead th {\n",
       "        text-align: right;\n",
       "    }\n",
       "</style>\n",
       "<table border=\"1\" class=\"dataframe\">\n",
       "  <thead>\n",
       "    <tr style=\"text-align: right;\">\n",
       "      <th></th>\n",
       "      <th>ID</th>\n",
       "      <th>Subject</th>\n",
       "      <th>Score</th>\n",
       "      <th>Semester</th>\n",
       "      <th>Type of Subject</th>\n",
       "      <th>Nature of Subject</th>\n",
       "    </tr>\n",
       "  </thead>\n",
       "  <tbody>\n",
       "    <tr>\n",
       "      <th>0</th>\n",
       "      <td>1</td>\n",
       "      <td>Public Speaking I: TED in the Classroom</td>\n",
       "      <td>94.0</td>\n",
       "      <td>Semester I</td>\n",
       "      <td>Soft Subject</td>\n",
       "      <td>Practical</td>\n",
       "    </tr>\n",
       "    <tr>\n",
       "      <th>1</th>\n",
       "      <td>2</td>\n",
       "      <td>Public Speaking I: TED in the Classroom</td>\n",
       "      <td>87.0</td>\n",
       "      <td>Semester I</td>\n",
       "      <td>Soft Subject</td>\n",
       "      <td>Practical</td>\n",
       "    </tr>\n",
       "    <tr>\n",
       "      <th>2</th>\n",
       "      <td>3</td>\n",
       "      <td>Public Speaking I: TED in the Classroom</td>\n",
       "      <td>92.0</td>\n",
       "      <td>Semester I</td>\n",
       "      <td>Soft Subject</td>\n",
       "      <td>Practical</td>\n",
       "    </tr>\n",
       "    <tr>\n",
       "      <th>3</th>\n",
       "      <td>4</td>\n",
       "      <td>Public Speaking I: TED in the Classroom</td>\n",
       "      <td>95.0</td>\n",
       "      <td>Semester I</td>\n",
       "      <td>Soft Subject</td>\n",
       "      <td>Practical</td>\n",
       "    </tr>\n",
       "    <tr>\n",
       "      <th>4</th>\n",
       "      <td>5</td>\n",
       "      <td>Public Speaking I: TED in the Classroom</td>\n",
       "      <td>96.0</td>\n",
       "      <td>Semester I</td>\n",
       "      <td>Soft Subject</td>\n",
       "      <td>Practical</td>\n",
       "    </tr>\n",
       "  </tbody>\n",
       "</table>\n",
       "</div>"
      ],
      "text/plain": [
       "   ID                                  Subject  Score    Semester  \\\n",
       "0   1  Public Speaking I: TED in the Classroom   94.0  Semester I   \n",
       "1   2  Public Speaking I: TED in the Classroom   87.0  Semester I   \n",
       "2   3  Public Speaking I: TED in the Classroom   92.0  Semester I   \n",
       "3   4  Public Speaking I: TED in the Classroom   95.0  Semester I   \n",
       "4   5  Public Speaking I: TED in the Classroom   96.0  Semester I   \n",
       "\n",
       "  Type of Subject Nature of Subject  \n",
       "0    Soft Subject         Practical  \n",
       "1    Soft Subject         Practical  \n",
       "2    Soft Subject         Practical  \n",
       "3    Soft Subject         Practical  \n",
       "4    Soft Subject         Practical  "
      ]
     },
     "execution_count": 38,
     "metadata": {},
     "output_type": "execute_result"
    }
   ],
   "source": [
    "# using all the data (all rows and columns)\n",
    "dataset = pd.read_csv('./data/KIT_Student_Performance.csv')\n",
    "dataset.head()\n"
   ]
  },
  {
   "cell_type": "code",
   "execution_count": 45,
   "id": "338945f8",
   "metadata": {},
   "outputs": [
    {
     "data": {
      "text/html": [
       "<div>\n",
       "<style scoped>\n",
       "    .dataframe tbody tr th:only-of-type {\n",
       "        vertical-align: middle;\n",
       "    }\n",
       "\n",
       "    .dataframe tbody tr th {\n",
       "        vertical-align: top;\n",
       "    }\n",
       "\n",
       "    .dataframe thead th {\n",
       "        text-align: right;\n",
       "    }\n",
       "</style>\n",
       "<table border=\"1\" class=\"dataframe\">\n",
       "  <thead>\n",
       "    <tr style=\"text-align: right;\">\n",
       "      <th></th>\n",
       "      <th>ID</th>\n",
       "      <th>Subject</th>\n",
       "      <th>Score</th>\n",
       "      <th>Semester</th>\n",
       "      <th>Type of Subject</th>\n",
       "      <th>Nature of Subject</th>\n",
       "    </tr>\n",
       "  </thead>\n",
       "  <tbody>\n",
       "    <tr>\n",
       "      <th>0</th>\n",
       "      <td>1</td>\n",
       "      <td>Public Speaking I: TED in the Classroom</td>\n",
       "      <td>94.0</td>\n",
       "      <td>Semester I</td>\n",
       "      <td>1</td>\n",
       "      <td>0</td>\n",
       "    </tr>\n",
       "    <tr>\n",
       "      <th>1</th>\n",
       "      <td>2</td>\n",
       "      <td>Public Speaking I: TED in the Classroom</td>\n",
       "      <td>87.0</td>\n",
       "      <td>Semester I</td>\n",
       "      <td>1</td>\n",
       "      <td>0</td>\n",
       "    </tr>\n",
       "    <tr>\n",
       "      <th>2</th>\n",
       "      <td>3</td>\n",
       "      <td>Public Speaking I: TED in the Classroom</td>\n",
       "      <td>92.0</td>\n",
       "      <td>Semester I</td>\n",
       "      <td>1</td>\n",
       "      <td>0</td>\n",
       "    </tr>\n",
       "    <tr>\n",
       "      <th>3</th>\n",
       "      <td>4</td>\n",
       "      <td>Public Speaking I: TED in the Classroom</td>\n",
       "      <td>95.0</td>\n",
       "      <td>Semester I</td>\n",
       "      <td>1</td>\n",
       "      <td>0</td>\n",
       "    </tr>\n",
       "    <tr>\n",
       "      <th>4</th>\n",
       "      <td>5</td>\n",
       "      <td>Public Speaking I: TED in the Classroom</td>\n",
       "      <td>96.0</td>\n",
       "      <td>Semester I</td>\n",
       "      <td>1</td>\n",
       "      <td>0</td>\n",
       "    </tr>\n",
       "    <tr>\n",
       "      <th>...</th>\n",
       "      <td>...</td>\n",
       "      <td>...</td>\n",
       "      <td>...</td>\n",
       "      <td>...</td>\n",
       "      <td>...</td>\n",
       "      <td>...</td>\n",
       "    </tr>\n",
       "    <tr>\n",
       "      <th>205</th>\n",
       "      <td>21</td>\n",
       "      <td>The KITian</td>\n",
       "      <td>93.0</td>\n",
       "      <td>Semester I</td>\n",
       "      <td>1</td>\n",
       "      <td>1</td>\n",
       "    </tr>\n",
       "    <tr>\n",
       "      <th>206</th>\n",
       "      <td>22</td>\n",
       "      <td>The KITian</td>\n",
       "      <td>95.0</td>\n",
       "      <td>Semester I</td>\n",
       "      <td>1</td>\n",
       "      <td>1</td>\n",
       "    </tr>\n",
       "    <tr>\n",
       "      <th>207</th>\n",
       "      <td>23</td>\n",
       "      <td>The KITian</td>\n",
       "      <td>93.0</td>\n",
       "      <td>Semester I</td>\n",
       "      <td>1</td>\n",
       "      <td>1</td>\n",
       "    </tr>\n",
       "    <tr>\n",
       "      <th>208</th>\n",
       "      <td>24</td>\n",
       "      <td>The KITian</td>\n",
       "      <td>95.0</td>\n",
       "      <td>Semester I</td>\n",
       "      <td>1</td>\n",
       "      <td>1</td>\n",
       "    </tr>\n",
       "    <tr>\n",
       "      <th>209</th>\n",
       "      <td>25</td>\n",
       "      <td>The KITian</td>\n",
       "      <td>93.0</td>\n",
       "      <td>Semester I</td>\n",
       "      <td>1</td>\n",
       "      <td>1</td>\n",
       "    </tr>\n",
       "  </tbody>\n",
       "</table>\n",
       "<p>210 rows × 6 columns</p>\n",
       "</div>"
      ],
      "text/plain": [
       "     ID                                  Subject  Score    Semester  \\\n",
       "0     1  Public Speaking I: TED in the Classroom   94.0  Semester I   \n",
       "1     2  Public Speaking I: TED in the Classroom   87.0  Semester I   \n",
       "2     3  Public Speaking I: TED in the Classroom   92.0  Semester I   \n",
       "3     4  Public Speaking I: TED in the Classroom   95.0  Semester I   \n",
       "4     5  Public Speaking I: TED in the Classroom   96.0  Semester I   \n",
       "..   ..                                      ...    ...         ...   \n",
       "205  21                               The KITian   93.0  Semester I   \n",
       "206  22                               The KITian   95.0  Semester I   \n",
       "207  23                               The KITian   93.0  Semester I   \n",
       "208  24                               The KITian   95.0  Semester I   \n",
       "209  25                               The KITian   93.0  Semester I   \n",
       "\n",
       "     Type of Subject  Nature of Subject  \n",
       "0                  1                  0  \n",
       "1                  1                  0  \n",
       "2                  1                  0  \n",
       "3                  1                  0  \n",
       "4                  1                  0  \n",
       "..               ...                ...  \n",
       "205                1                  1  \n",
       "206                1                  1  \n",
       "207                1                  1  \n",
       "208                1                  1  \n",
       "209                1                  1  \n",
       "\n",
       "[210 rows x 6 columns]"
      ]
     },
     "execution_count": 45,
     "metadata": {},
     "output_type": "execute_result"
    }
   ],
   "source": [
    "# Encode Categorical Variables\n",
    "from sklearn.preprocessing import LabelEncoder\n",
    "labelencoder = LabelEncoder()\n",
    "dataset[\"Type of Subject\"] = labelencoder.fit_transform(dataset[\"Type of Subject\"]) # 0 for Core subject, 1 for Soft subject\n",
    "dataset[\"Nature of Subject\"] = labelencoder.fit_transform(dataset[\"Nature of Subject\"]) # 0 for Practical, 1 for Theory\n",
    "dataset.head(210)\n"
   ]
  },
  {
   "cell_type": "code",
   "execution_count": 46,
   "id": "83e8a227",
   "metadata": {},
   "outputs": [
    {
     "data": {
      "text/html": [
       "<div>\n",
       "<style scoped>\n",
       "    .dataframe tbody tr th:only-of-type {\n",
       "        vertical-align: middle;\n",
       "    }\n",
       "\n",
       "    .dataframe tbody tr th {\n",
       "        vertical-align: top;\n",
       "    }\n",
       "\n",
       "    .dataframe thead th {\n",
       "        text-align: right;\n",
       "    }\n",
       "</style>\n",
       "<table border=\"1\" class=\"dataframe\">\n",
       "  <thead>\n",
       "    <tr style=\"text-align: right;\">\n",
       "      <th></th>\n",
       "      <th>Type of Subject</th>\n",
       "      <th>Nature of Subject</th>\n",
       "      <th>Score</th>\n",
       "    </tr>\n",
       "  </thead>\n",
       "  <tbody>\n",
       "    <tr>\n",
       "      <th>0</th>\n",
       "      <td>1</td>\n",
       "      <td>0</td>\n",
       "      <td>94.0</td>\n",
       "    </tr>\n",
       "    <tr>\n",
       "      <th>1</th>\n",
       "      <td>1</td>\n",
       "      <td>0</td>\n",
       "      <td>87.0</td>\n",
       "    </tr>\n",
       "    <tr>\n",
       "      <th>2</th>\n",
       "      <td>1</td>\n",
       "      <td>0</td>\n",
       "      <td>92.0</td>\n",
       "    </tr>\n",
       "    <tr>\n",
       "      <th>3</th>\n",
       "      <td>1</td>\n",
       "      <td>0</td>\n",
       "      <td>95.0</td>\n",
       "    </tr>\n",
       "    <tr>\n",
       "      <th>4</th>\n",
       "      <td>1</td>\n",
       "      <td>0</td>\n",
       "      <td>96.0</td>\n",
       "    </tr>\n",
       "  </tbody>\n",
       "</table>\n",
       "</div>"
      ],
      "text/plain": [
       "   Type of Subject  Nature of Subject  Score\n",
       "0                1                  0   94.0\n",
       "1                1                  0   87.0\n",
       "2                1                  0   92.0\n",
       "3                1                  0   95.0\n",
       "4                1                  0   96.0"
      ]
     },
     "execution_count": 46,
     "metadata": {},
     "output_type": "execute_result"
    }
   ],
   "source": [
    "features = dataset[[\"Type of Subject\", \"Nature of Subject\", \"Score\"]]\n",
    "features.head()"
   ]
  },
  {
   "cell_type": "code",
   "execution_count": 47,
   "id": "499b44c8",
   "metadata": {},
   "outputs": [
    {
     "name": "stdout",
     "output_type": "stream",
     "text": [
      "<class 'pandas.core.frame.DataFrame'>\n",
      "RangeIndex: 814 entries, 0 to 813\n",
      "Data columns (total 3 columns):\n",
      " #   Column             Non-Null Count  Dtype  \n",
      "---  ------             --------------  -----  \n",
      " 0   Type of Subject    814 non-null    int64  \n",
      " 1   Nature of Subject  814 non-null    int64  \n",
      " 2   Score              814 non-null    float64\n",
      "dtypes: float64(1), int64(2)\n",
      "memory usage: 19.2 KB\n",
      "None\n"
     ]
    }
   ],
   "source": [
    "print(features.info())"
   ]
  },
  {
   "cell_type": "code",
   "execution_count": 48,
   "id": "e1c0b2db",
   "metadata": {},
   "outputs": [
    {
     "name": "stdout",
     "output_type": "stream",
     "text": [
      "Type of Subject      0\n",
      "Nature of Subject    0\n",
      "Score                0\n",
      "dtype: int64\n"
     ]
    }
   ],
   "source": [
    "# checking for missing values\n",
    "print(features.isnull().sum())"
   ]
  },
  {
   "cell_type": "code",
   "execution_count": 49,
   "id": "2b63b492",
   "metadata": {},
   "outputs": [],
   "source": [
    "# Normalize the data\n",
    "from sklearn.preprocessing import StandardScaler\n",
    "scaler = StandardScaler()\n",
    "scaled_features = scaler.fit_transform(features)"
   ]
  },
  {
   "cell_type": "code",
   "execution_count": 50,
   "id": "61ed69c4",
   "metadata": {},
   "outputs": [
    {
     "data": {
      "text/plain": [
       "array([[ 0.75592895, -0.75592895,  1.04019169],\n",
       "       [ 0.75592895, -0.75592895,  0.42197158],\n",
       "       [ 0.75592895, -0.75592895,  0.86355737],\n",
       "       ...,\n",
       "       [-1.32287566, -0.75592895, -0.10793138],\n",
       "       [-1.32287566, -0.75592895,  1.12850885],\n",
       "       [-1.32287566, -0.75592895, -0.7261515 ]], shape=(814, 3))"
      ]
     },
     "execution_count": 50,
     "metadata": {},
     "output_type": "execute_result"
    }
   ],
   "source": [
    "scaled_features"
   ]
  },
  {
   "cell_type": "code",
   "execution_count": 51,
   "id": "61bed4ad",
   "metadata": {},
   "outputs": [],
   "source": [
    "from sklearn.cluster import KMeans\n",
    "kmeans = KMeans(n_clusters=4, random_state=42)\n",
    "dataset[\"Cluster\"] = kmeans.fit_predict(scaled_features)\n"
   ]
  },
  {
   "cell_type": "code",
   "execution_count": 54,
   "id": "0c22ccb2",
   "metadata": {},
   "outputs": [
    {
     "data": {
      "image/png": "[encoded data removed]",
      "text/plain": [
       "<Figure size 800x600 with 1 Axes>"
      ]
     },
     "metadata": {},
     "output_type": "display_data"
    }
   ],
   "source": [
    "from sklearn.decomposition import PCA\n",
    "import seaborn as sns\n",
    "\n",
    "pca = PCA(n_components=2)\n",
    "pca_components = pca.fit_transform(scaled_features)\n",
    "\n",
    "dataset[\"PCA1\"] = pca_components[:, 0]\n",
    "dataset[\"PCA2\"] = pca_components[:, 1]\n",
    "\n",
    "plt.figure(figsize=(8, 6))\n",
    "sns.scatterplot(data=dataset, x=\"PCA1\", y=\"PCA2\", hue=\"Cluster\", palette=\"Set2\", s=80)\n",
    "plt.title(\"K-Means Clustering of Subject Types (PCA View)\")\n",
    "plt.xlabel(\"PCA Component 1\")\n",
    "plt.ylabel(\"PCA Component 2\")\n",
    "plt.legend(title=\"Cluster\")\n",
    "plt.grid(True)\n",
    "plt.show()"
   ]
  },
  {
   "cell_type": "code",
   "execution_count": 56,
   "id": "0248aefa",
   "metadata": {},
   "outputs": [
    {
     "data": {
      "text/html": [
       "<div>\n",
       "<style scoped>\n",
       "    .dataframe tbody tr th:only-of-type {\n",
       "        vertical-align: middle;\n",
       "    }\n",
       "\n",
       "    .dataframe tbody tr th {\n",
       "        vertical-align: top;\n",
       "    }\n",
       "\n",
       "    .dataframe thead th {\n",
       "        text-align: right;\n",
       "    }\n",
       "</style>\n",
       "<table border=\"1\" class=\"dataframe\">\n",
       "  <thead>\n",
       "    <tr style=\"text-align: right;\">\n",
       "      <th></th>\n",
       "      <th>Type of Subject</th>\n",
       "      <th>Nature of Subject</th>\n",
       "      <th>Score</th>\n",
       "    </tr>\n",
       "    <tr>\n",
       "      <th>Cluster</th>\n",
       "      <th></th>\n",
       "      <th></th>\n",
       "      <th></th>\n",
       "    </tr>\n",
       "  </thead>\n",
       "  <tbody>\n",
       "    <tr>\n",
       "      <th>0</th>\n",
       "      <td>0.008929</td>\n",
       "      <td>0.0</td>\n",
       "      <td>75.446429</td>\n",
       "    </tr>\n",
       "    <tr>\n",
       "      <th>1</th>\n",
       "      <td>1.000000</td>\n",
       "      <td>0.0</td>\n",
       "      <td>88.244150</td>\n",
       "    </tr>\n",
       "    <tr>\n",
       "      <th>2</th>\n",
       "      <td>0.989950</td>\n",
       "      <td>1.0</td>\n",
       "      <td>88.286432</td>\n",
       "    </tr>\n",
       "    <tr>\n",
       "      <th>3</th>\n",
       "      <td>0.257732</td>\n",
       "      <td>1.0</td>\n",
       "      <td>67.175258</td>\n",
       "    </tr>\n",
       "  </tbody>\n",
       "</table>\n",
       "</div>"
      ],
      "text/plain": [
       "         Type of Subject  Nature of Subject      Score\n",
       "Cluster                                               \n",
       "0               0.008929                0.0  75.446429\n",
       "1               1.000000                0.0  88.244150\n",
       "2               0.989950                1.0  88.286432\n",
       "3               0.257732                1.0  67.175258"
      ]
     },
     "execution_count": 56,
     "metadata": {},
     "output_type": "execute_result"
    }
   ],
   "source": [
    "dataset.groupby(\"Cluster\")[[\"Type of Subject\", \"Nature of Subject\", \"Score\"]].mean()\n"
   ]
  },
  {
   "cell_type": "code",
   "execution_count": 65,
   "id": "1430c477",
   "metadata": {},
   "outputs": [],
   "source": [
    "dataset[\"Type\"] = dataset[\"Type of Subject\"].map({0: \"Soft\", 1: \"Core\"})\n",
    "dataset[\"Nature\"] = dataset[\"Nature of Subject\"].map({0: \"Theory\", 1: \"Practical\"})\n"
   ]
  },
  {
   "cell_type": "code",
   "execution_count": null,
   "id": "87be1cca",
   "metadata": {},
   "outputs": [],
   "source": []
  }
 ],
 "metadata": {
  "kernelspec": {
   "display_name": "kit_ml_venv",
   "language": "python",
   "name": "python3"
  },
  "language_info": {
   "codemirror_mode": {
    "name": "ipython",
    "version": 3
   },
   "file_extension": ".py",
   "mimetype": "text/x-python",
   "name": "python",
   "nbconvert_exporter": "python",
   "pygments_lexer": "ipython3",
   "version": "3.12.7"
  }
 },
 "nbformat": 4,
 "nbformat_minor": 5
}
